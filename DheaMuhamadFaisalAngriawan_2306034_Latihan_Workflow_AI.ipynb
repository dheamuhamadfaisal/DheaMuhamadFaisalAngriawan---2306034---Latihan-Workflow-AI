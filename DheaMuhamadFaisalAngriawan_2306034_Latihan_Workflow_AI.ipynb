{
  "nbformat": 4,
  "nbformat_minor": 0,
  "metadata": {
    "colab": {
      "provenance": []
    },
    "kernelspec": {
      "name": "python3",
      "display_name": "Python 3"
    },
    "language_info": {
      "name": "python"
    }
  },
  "cells": [
    {
      "cell_type": "code",
      "execution_count": null,
      "metadata": {
        "id": "w2Zw0JJpo0Pz"
      },
      "outputs": [],
      "source": []
    },
    {
      "cell_type": "code",
      "source": [
        "import pandas as pd\n",
        "\n",
        "data = {\n",
        "    \"Tanggal\" : [\"2025-03-06\", \"2025-03-06\", \"2025-03-06\", \"2025-03-06\", \"2025-03-06\", \"2025-03-06\", \"2025-03-05\", \"2025-03-05\", \"2025-03-05\", \"2025-03-05\"],\n",
        "    \"Produk\" : [\"Bimoli\", \"Kecap\", \"Garam\", \"Tepung\", \"Madu\", \"Susu\", \"Telur\", \"Teh Pucuk\", \"Matcha\", \"Basreng\"],\n",
        "    \"Jumlah Terjual\" : [15, 10, 10, 5, 20, 15, 20, 10, 5, 10],\n",
        "    \"Stok\" : [25, 10, 20, 10, 15, 10, 30, 10, 10, 15],\n",
        "    \"Harga Satuan\" : [15000, 10000, 12000, 10000, 15000, 15000, 25000, 5000, 15000, 5000],\n",
        "}\n",
        "\n",
        "df = pd.DataFrame(data)\n",
        "\n",
        "df.to_csv(\"data_penjualan_latihan.csv\", index=False)\n",
        "\n",
        "print(\"File csv berhasil dibuat dan disimpan sebagai 'data_penjualan_latihan'!\")"
      ],
      "metadata": {
        "colab": {
          "base_uri": "https://localhost:8080/"
        },
        "id": "z0nBXLcmpBkL",
        "outputId": "2ee19d9f-82c3-4f07-ca65-07a8a448b688"
      },
      "execution_count": null,
      "outputs": [
        {
          "output_type": "stream",
          "name": "stdout",
          "text": [
            "File csv berhasil dibuat dan disimpan sebagai 'data_penjualan_latihan'!\n"
          ]
        }
      ]
    },
    {
      "cell_type": "code",
      "source": [
        "df = pd.read_csv(\"data_penjualan_latihan.csv\")\n",
        "\n",
        "print(df.head())\n",
        "\n"
      ],
      "metadata": {
        "colab": {
          "base_uri": "https://localhost:8080/"
        },
        "id": "aatl3phbql_U",
        "outputId": "96ba36cd-f9e2-4368-cf2a-e07f5e504397"
      },
      "execution_count": null,
      "outputs": [
        {
          "output_type": "stream",
          "name": "stdout",
          "text": [
            "      Tanggal  Produk  Jumlah Terjual  Stok  Harga Satuan\n",
            "0  2025-03-06  Bimoli              15    25         15000\n",
            "1  2025-03-06   Kecap              10    10         10000\n",
            "2  2025-03-06   Garam              10    20         12000\n",
            "3  2025-03-06  Tepung               5    10         10000\n",
            "4  2025-03-06    Madu              20    15         15000\n"
          ]
        }
      ]
    },
    {
      "cell_type": "code",
      "source": [
        "print(df.isnull().sum())\n",
        "\n",
        "df[\"Tanggal\"] = pd.to_datetime(df[\"Tanggal\"])\n",
        "\n",
        "df[\"Total Penjualan\"] = df[\"Jumlah Terjual\"] * df[\"Harga Satuan\"]\n",
        "\n",
        "df[\"Keuntungan\"] = df[\"Total Penjualan\"] - (df[\"Jumlah Terjual\"] * 10000)\n",
        "\n",
        "print(df.head())\n"
      ],
      "metadata": {
        "colab": {
          "base_uri": "https://localhost:8080/"
        },
        "id": "Z47oZ9t5queK",
        "outputId": "f25f513c-b3f3-46b7-8994-a6883891d40a"
      },
      "execution_count": null,
      "outputs": [
        {
          "output_type": "stream",
          "name": "stdout",
          "text": [
            "Tanggal           0\n",
            "Produk            0\n",
            "Jumlah Terjual    0\n",
            "Stok              0\n",
            "Harga Satuan      0\n",
            "dtype: int64\n",
            "     Tanggal  Produk  Jumlah Terjual  Stok  Harga Satuan  Total Penjualan  \\\n",
            "0 2025-03-06  Bimoli              15    25         15000           225000   \n",
            "1 2025-03-06   Kecap              10    10         10000           100000   \n",
            "2 2025-03-06   Garam              10    20         12000           120000   \n",
            "3 2025-03-06  Tepung               5    10         10000            50000   \n",
            "4 2025-03-06    Madu              20    15         15000           300000   \n",
            "\n",
            "   Keuntungan  \n",
            "0       75000  \n",
            "1           0  \n",
            "2       20000  \n",
            "3           0  \n",
            "4      100000  \n"
          ]
        }
      ]
    },
    {
      "cell_type": "code",
      "source": [
        "from sklearn.model_selection import train_test_split\n",
        "from sklearn.tree import DecisionTreeClassifier\n",
        "from sklearn.metrics import accuracy_score\n",
        "\n",
        "X = df[[\"Jumlah Terjual\", \"Stok\"]]\n",
        "y = (df[\"Stok\"] < 5).astype(int)\n",
        "\n",
        "X_train, X_test, y_train, y_test = train_test_split(X, y, test_size=0.2, random_state=42)\n",
        "\n",
        "model = DecisionTreeClassifier()\n",
        "model.fit(X_train, y_train)\n",
        "\n",
        "y_pred = model.predict(X_test)\n",
        "print(\"Akurasi Model :\", accuracy_score(y_test, y_pred))\n",
        "\n",
        "accuracy = accuracy_score(y_test, y_pred)\n",
        "print(\"Akurasi model:\", accuracy)\n",
        "\n",
        "y_pred = model.predict(X_test)\n",
        "\n",
        "accuracy = accuracy_score(y_test, y_pred)\n"
      ],
      "metadata": {
        "colab": {
          "base_uri": "https://localhost:8080/"
        },
        "id": "pqpWma0zq8OK",
        "outputId": "857ae856-3013-41f5-df9e-e6a1242d1266"
      },
      "execution_count": null,
      "outputs": [
        {
          "output_type": "stream",
          "name": "stdout",
          "text": [
            "Akurasi Model : 1.0\n",
            "Akurasi model: 1.0\n"
          ]
        }
      ]
    },
    {
      "cell_type": "code",
      "source": [
        "produk_baru = [[8, 3]]\n",
        "prediksi = model.predict(produk_baru)\n",
        "\n",
        "if prediksi[0] == 1:\n",
        "  print(\"Produk perlu di restok!\")\n",
        "else :\n",
        "  print(\"Stok masih cukup.\")"
      ],
      "metadata": {
        "colab": {
          "base_uri": "https://localhost:8080/"
        },
        "id": "RR1CdvI4rCZF",
        "outputId": "b0f0c2a0-e6bf-4ce5-a03a-09fda5e757be"
      },
      "execution_count": 10,
      "outputs": [
        {
          "output_type": "stream",
          "name": "stdout",
          "text": [
            "Stok masih cukup.\n"
          ]
        },
        {
          "output_type": "stream",
          "name": "stderr",
          "text": [
            "/usr/local/lib/python3.11/dist-packages/sklearn/utils/validation.py:2739: UserWarning: X does not have valid feature names, but DecisionTreeClassifier was fitted with feature names\n",
            "  warnings.warn(\n"
          ]
        }
      ]
    },
    {
      "cell_type": "code",
      "source": [
        "import matplotlib.pyplot as plt\n",
        "\n",
        "plt.scatter(df[\"Jumlah Terjual\"], df[\"Stok\"], c=df[\"Keuntungan\"], cmap=\"coolwarm\")\n",
        "plt.xlabel(\"Jumlah Terjual\")\n",
        "plt.ylabel(\"Stok\")\n",
        "plt.title(\"Analis penjualan dan stok\")\n",
        "plt.colorbar(label=\"Keuntungan\")\n",
        "plt.show()"
      ],
      "metadata": {
        "id": "T0TQ6QayrRj_",
        "colab": {
          "base_uri": "https://localhost:8080/",
          "height": 472
        },
        "outputId": "cf9ff5ef-4b64-4a56-9f4e-e559ec89529c"
      },
      "execution_count": 11,
      "outputs": [
        {
          "output_type": "display_data",
          "data": {
            "text/plain": [
              "<Figure size 640x480 with 2 Axes>"
            ],
            "image/png": "[encoded data removed]"
          },
          "metadata": {}
        }
      ]
    }
  ]
}